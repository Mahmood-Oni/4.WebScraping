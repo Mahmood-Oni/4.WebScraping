{
 "cells": [
  {
   "cell_type": "code",
   "execution_count": 26,
   "id": "3343add6",
   "metadata": {},
   "outputs": [],
   "source": [
    "import newspaper\n",
    "import feedparser"
   ]
  },
  {
   "cell_type": "code",
   "execution_count": 27,
   "id": "a4689e42",
   "metadata": {},
   "outputs": [],
   "source": [
    "def scrape_news_from_feed(feed_url):\n",
    "    articles = []\n",
    "    feed = feedparser.parse(feed_url)\n",
    "    for entry in feed.entries:\n",
    "        article = newspaper.Article(entry.link)\n",
    "        article.download()\n",
    "        article.parse()\n",
    "        \n",
    "        articles.append({\n",
    "            'title':article.title,\n",
    "            'author':article.authors,\n",
    "            'publish_date':article.publish_date,\n",
    "            'content':article.text\n",
    "        })\n",
    "        \n",
    "    return articles"
   ]
  },
  {
   "cell_type": "code",
   "execution_count": 43,
   "id": "7298eecd",
   "metadata": {},
   "outputs": [],
   "source": [
    "#feed_url='https://www.bbc.com/news/rss.xml'\n",
    "feed_url='https://feeds.bbci.co.uk/news/rss.xml'\n",
    "#feed_url='https://www.bd-pratidin.com/news/rss.xml' doesn't support rss feed\n",
    "articles=scrape_news_from_feed(feed_url)"
   ]
  },
  {
   "cell_type": "code",
   "execution_count": 41,
   "id": "29f0a321",
   "metadata": {},
   "outputs": [],
   "source": [
    "# for article in articles:\n",
    "#     print('Title:', article['title'])\n",
    "#     print('Author:', article['author'])\n",
    "#     print('Publish Date:', article['publish_date'])\n",
    "#     print('Content:', article['content'])\n",
    "#     print()"
   ]
  },
  {
   "cell_type": "code",
   "execution_count": 42,
   "id": "68e15ea3",
   "metadata": {},
   "outputs": [],
   "source": [
    "import pandas as pd\n",
    "\n",
    "df=pd.DataFrame(articles)\n",
    "df.to_excel('news.xlsx')"
   ]
  },
  {
   "cell_type": "code",
   "execution_count": null,
   "id": "b7185710",
   "metadata": {},
   "outputs": [],
   "source": []
  }
 ],
 "metadata": {
  "kernelspec": {
   "display_name": "Python 3 (ipykernel)",
   "language": "python",
   "name": "python3"
  },
  "language_info": {
   "codemirror_mode": {
    "name": "ipython",
    "version": 3
   },
   "file_extension": ".py",
   "mimetype": "text/x-python",
   "name": "python",
   "nbconvert_exporter": "python",
   "pygments_lexer": "ipython3",
   "version": "3.11.4"
  }
 },
 "nbformat": 4,
 "nbformat_minor": 5
}
